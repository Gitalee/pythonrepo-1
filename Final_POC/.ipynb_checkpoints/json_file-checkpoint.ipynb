{
 "cells": [
  {
   "cell_type": "code",
   "execution_count": 12,
   "metadata": {},
   "outputs": [
    {
     "name": "stdout",
     "output_type": "stream",
     "text": [
      "AWS::EC2::Instance\n"
     ]
    }
   ],
   "source": [
    "import json as js\n",
    "new_file=js.loads(open('LAMP_Single_Instance.json').read())\n",
    "#print(new_file)\n",
    "value = new_file['Resources']\n",
    "print(value['WebServerInstance']['Type'])"
   ]
  },
  {
   "cell_type": "code",
   "execution_count": 22,
   "metadata": {},
   "outputs": [
    {
     "name": "stdout",
     "output_type": "stream",
     "text": [
      "AWS::EC2::Instance\n",
      "AWS::EC2::SecurityGroup\n"
     ]
    }
   ],
   "source": [
    "import json as js\n",
    "new_file=js.loads(open('LAMP_Single_Instance.json').read())\n",
    "reskey=[]\n",
    "value = new_file['Resources']\n",
    "for i in value:\n",
    "    reskey.append(i)\n",
    "#print(reskey)\n",
    "\n",
    "for x in reskey:\n",
    "    d=value[x]\n",
    "    print(d['Type'])\n"
   ]
  },
  {
   "cell_type": "code",
   "execution_count": 24,
   "metadata": {},
   "outputs": [
    {
     "name": "stdout",
     "output_type": "stream",
     "text": [
      "AWS::ElasticLoadBalancingV2::LoadBalancer\n",
      "AWS::ElasticLoadBalancingV2::Listener\n",
      "AWS::ElasticLoadBalancingV2::TargetGroup\n",
      "AWS::AutoScaling::AutoScalingGroup\n",
      "AWS::AutoScaling::LaunchConfiguration\n",
      "AWS::EC2::SecurityGroup\n",
      "AWS::EC2::SecurityGroup\n",
      "AWS::RDS::DBInstance\n"
     ]
    }
   ],
   "source": [
    "import json as js\n",
    "new_file=js.loads(open('LAMP_Multi_AZ.json').read())\n",
    "reskey=[]\n",
    "value = new_file['Resources']\n",
    "for i in value:\n",
    "    reskey.append(i)\n",
    "#print(reskey)\n",
    "\n",
    "for x in reskey:\n",
    "    d=value[x]\n",
    "    print(d['Type'])"
   ]
  },
  {
   "cell_type": "code",
   "execution_count": 25,
   "metadata": {},
   "outputs": [
    {
     "name": "stdout",
     "output_type": "stream",
     "text": [
      "AWS::AutoScaling::AutoScalingGroup\n",
      "AWS::AutoScaling::LaunchConfiguration\n",
      "AWS::ElasticLoadBalancingV2::LoadBalancer\n",
      "AWS::ElasticLoadBalancingV2::Listener\n",
      "AWS::ElasticLoadBalancingV2::TargetGroup\n",
      "AWS::EC2::SecurityGroup\n"
     ]
    }
   ],
   "source": [
    "import json as js\n",
    "new_file=js.loads(open('ELBWithLockedDownAutoScaledInstances.json').read())\n",
    "reskey=[]\n",
    "value = new_file['Resources']\n",
    "for i in value:\n",
    "    reskey.append(i)\n",
    "#print(reskey)\n",
    "\n",
    "for x in reskey:\n",
    "    d=value[x]\n",
    "    print(d['Type'])"
   ]
  },
  {
   "cell_type": "code",
   "execution_count": null,
   "metadata": {},
   "outputs": [],
   "source": []
  }
 ],
 "metadata": {
  "kernelspec": {
   "display_name": "Python 3",
   "language": "python",
   "name": "python3"
  },
  "language_info": {
   "codemirror_mode": {
    "name": "ipython",
    "version": 3
   },
   "file_extension": ".py",
   "mimetype": "text/x-python",
   "name": "python",
   "nbconvert_exporter": "python",
   "pygments_lexer": "ipython3",
   "version": "3.7.1"
  }
 },
 "nbformat": 4,
 "nbformat_minor": 2
}
